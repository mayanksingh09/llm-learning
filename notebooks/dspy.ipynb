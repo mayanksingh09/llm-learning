{
 "cells": [
  {
   "cell_type": "markdown",
   "metadata": {},
   "source": [
    "# DSPy Learning"
   ]
  },
  {
   "cell_type": "markdown",
   "metadata": {},
   "source": [
    "## Initialization"
   ]
  },
  {
   "cell_type": "code",
   "execution_count": 5,
   "metadata": {},
   "outputs": [
    {
     "name": "stderr",
     "output_type": "stream",
     "text": [
      "/Users/mayanksingh/.pyenv/versions/3.13.0/lib/python3.13/site-packages/tqdm/auto.py:21: TqdmWarning: IProgress not found. Please update jupyter and ipywidgets. See https://ipywidgets.readthedocs.io/en/stable/user_install.html\n",
      "  from .autonotebook import tqdm as notebook_tqdm\n"
     ]
    }
   ],
   "source": [
    "from dotenv import load_dotenv\n",
    "import os\n",
    "import dspy"
   ]
  },
  {
   "cell_type": "code",
   "execution_count": 7,
   "metadata": {},
   "outputs": [],
   "source": [
    "llm = dspy.LM('openai/gpt-4o', api_key=os.getenv(\"OPENAI_API_KEY\"))\n",
    "dspy.configure(lm=llm)"
   ]
  },
  {
   "cell_type": "markdown",
   "metadata": {},
   "source": [
    "## 1. Language models"
   ]
  },
  {
   "cell_type": "markdown",
   "metadata": {},
   "source": [
    "https://dspy.ai/learn/programming/language_models/"
   ]
  },
  {
   "cell_type": "markdown",
   "metadata": {},
   "source": [
    "### 1.1 Calling LLM directly"
   ]
  },
  {
   "cell_type": "code",
   "execution_count": 11,
   "metadata": {},
   "outputs": [
    {
     "data": {
      "text/plain": [
       "['42']"
      ]
     },
     "execution_count": 11,
     "metadata": {},
     "output_type": "execute_result"
    }
   ],
   "source": [
    "llm(\"What is the meaning of life? One integer answer\", temperature=0.9)"
   ]
  },
  {
   "cell_type": "code",
   "execution_count": 12,
   "metadata": {},
   "outputs": [
    {
     "data": {
      "text/plain": [
       "['The meaning of life is a question that has been pondered by philosophers, theologians, scientists, and thinkers for centuries, and it often depends on individual beliefs, cultural perspectives, and personal experiences. Some people find meaning through religion or spirituality, believing that life has a divine purpose. Others find meaning through relationships, personal achievements, or contributing to the well-being of others. Some philosophical perspectives suggest that life has no inherent meaning, and it is up to each individual to create their own purpose. Ultimately, the meaning of life is a deeply personal and subjective question, and different people may arrive at different answers based on their own values and experiences.']"
      ]
     },
     "execution_count": 12,
     "metadata": {},
     "output_type": "execute_result"
    }
   ],
   "source": [
    "llm(messages=[{\n",
    "    \"role\": \"system\", \"content\": \"Give integer answers only\",\n",
    "    \"role\": \"user\", \"content\": \"What is the meaning of life?\"\n",
    "    }])"
   ]
  },
  {
   "cell_type": "markdown",
   "metadata": {},
   "source": [
    "### 1.2 Using LM with DSPy modules"
   ]
  },
  {
   "cell_type": "code",
   "execution_count": 33,
   "metadata": {},
   "outputs": [
    {
     "data": {
      "text/plain": [
       "self = Predict(StringSignature(question -> reasoning, answer\n",
       "    instructions='Given the fields `question`, produce the fields `answer`.'\n",
       "    question = Field(annotation=str required=True json_schema_extra={'__dspy_field_type': 'input', 'prefix': 'Question:', 'desc': '${question}'})\n",
       "    reasoning = Field(annotation=str required=True json_schema_extra={'prefix': \"Reasoning: Let's think step by step in order to\", 'desc': '${reasoning}', '__dspy_field_type': 'output'})\n",
       "    answer = Field(annotation=str required=True json_schema_extra={'__dspy_field_type': 'output', 'prefix': 'Answer:', 'desc': '${answer}'})\n",
       "))"
      ]
     },
     "execution_count": 33,
     "metadata": {},
     "output_type": "execute_result"
    }
   ],
   "source": [
    "# Define a module (CoT), assign it a signature (return an answer, given a question)\n",
    "cot_qa_module = dspy.ChainOfThought('question -> answer')\n",
    "# cot_qa_module = dspy.ChainOfThought('q -> a') # can name it anything, doesn't have to be 'question -> answer'\n",
    "cot_qa_module"
   ]
  },
  {
   "cell_type": "code",
   "execution_count": 35,
   "metadata": {},
   "outputs": [
    {
     "data": {
      "text/plain": [
       "Prediction(\n",
       "    reasoning='The meaning of life is a philosophical question that has been contemplated by humans for centuries. Different cultures, religions, and individuals have proposed various interpretations. Some suggest that the meaning of life is to seek happiness, fulfillment, and personal growth, while others believe it is about serving a higher purpose or contributing to the well-being of others. Ultimately, the meaning of life may vary from person to person, shaped by personal experiences, beliefs, and values.',\n",
       "    answer=\"The meaning of life is subjective and can vary greatly among individuals. It may involve seeking happiness, personal growth, and contributing to the well-being of others, or it may be defined by one's beliefs and experiences.\"\n",
       ")"
      ]
     },
     "execution_count": 35,
     "metadata": {},
     "output_type": "execute_result"
    }
   ],
   "source": [
    "response = cot_qa_module(question=\"What is the meaning of life?\")\n",
    "# response = cot_qa_module(q=\"What is the meaning of life?\")\n",
    "response"
   ]
  },
  {
   "cell_type": "markdown",
   "metadata": {},
   "source": [
    "The response has a reasoning component and the final answer from the CoT module"
   ]
  },
  {
   "cell_type": "markdown",
   "metadata": {},
   "source": [
    "### 1.3 Using multiple LLMs"
   ]
  },
  {
   "cell_type": "code",
   "execution_count": 37,
   "metadata": {},
   "outputs": [
    {
     "name": "stdout",
     "output_type": "stream",
     "text": [
      "GPT-4o-mini: The meaning of life is subjective and can vary greatly among individuals. It may involve seeking happiness, personal growth, and contributing to the well-being of others, or it may be defined by one's beliefs and experiences.\n",
      "GPT-3.5-turbo: The meaning of life is a deeply personal and subjective concept that varies from person to person. Some find meaning through relationships, others through accomplishments, spirituality, or personal growth. Ultimately, the meaning of life is a question that each individual must explore and define for themselves.\n"
     ]
    }
   ],
   "source": [
    "dspy.configure(lm=dspy.LM('openai/gpt-4o-mini'))\n",
    "response = cot_qa_module(question=\"What is the meaning of life?\")\n",
    "print('GPT-4o-mini:', response.answer)\n",
    "\n",
    "with dspy.context(lm=dspy.LM('openai/gpt-3.5-turbo')):\n",
    "    response = cot_qa_module(question=\"What is the meaning of life?\")\n",
    "    print('GPT-3.5-turbo:', response.answer)"
   ]
  },
  {
   "cell_type": "markdown",
   "metadata": {},
   "source": [
    "### 1.4 Configure LM generation"
   ]
  },
  {
   "cell_type": "markdown",
   "metadata": {},
   "source": [
    "By default LMs are cached in DSPy, but you can disable this feature\n",
    "\n",
    "stop: stop token"
   ]
  },
  {
   "cell_type": "code",
   "execution_count": 47,
   "metadata": {},
   "outputs": [],
   "source": [
    "gpt_4o_mini = dspy.LM('openai/gpt-4o-mini', temperature=0.9, max_tokens=3000, stop=\".\", cache=False)"
   ]
  },
  {
   "cell_type": "code",
   "execution_count": 48,
   "metadata": {},
   "outputs": [
    {
     "data": {
      "text/plain": [
       "['The meaning of life is a profound philosophical question that has been explored by thinkers, theologians, and scientists throughout history']"
      ]
     },
     "execution_count": 48,
     "metadata": {},
     "output_type": "execute_result"
    }
   ],
   "source": [
    "gpt_4o_mini(\"What is the meaning of life?\")"
   ]
  },
  {
   "cell_type": "code",
   "execution_count": 50,
   "metadata": {},
   "outputs": [
    {
     "data": {
      "text/plain": [
       "['42']"
      ]
     },
     "execution_count": 50,
     "metadata": {},
     "output_type": "execute_result"
    }
   ],
   "source": [
    "\n",
    "gpt_4o_mini(\"What is the meaning of life? One integer answer only\")"
   ]
  },
  {
   "cell_type": "markdown",
   "metadata": {},
   "source": [
    "Each LLM maintains history of interactions, along with the token input and output and also cost"
   ]
  },
  {
   "cell_type": "code",
   "execution_count": 67,
   "metadata": {},
   "outputs": [
    {
     "name": "stdout",
     "output_type": "stream",
     "text": [
      "Input: What is the meaning of life?\n",
      "Output: The meaning of life is a profound philosophical question that has been explored by thinkers, theologians, and scientists throughout history\n",
      "Cost: 1.59e-05\n",
      "Input: What is the meaning of life? One integer answer only\n",
      "Output: 42\n",
      "Cost: 3.2999999999999997e-06\n"
     ]
    }
   ],
   "source": [
    "for record in gpt_4o_mini.history:\n",
    "    print(f\"Input: {record['prompt']}\")\n",
    "    print(f\"Output: {record['outputs'][-1]}\")\n",
    "    print(f\"Cost: {record['cost']}\")"
   ]
  },
  {
   "cell_type": "code",
   "execution_count": null,
   "metadata": {},
   "outputs": [],
   "source": []
  }
 ],
 "metadata": {
  "kernelspec": {
   "display_name": "llm-learning",
   "language": "python",
   "name": "llm-learning"
  },
  "language_info": {
   "codemirror_mode": {
    "name": "ipython",
    "version": 3
   },
   "file_extension": ".py",
   "mimetype": "text/x-python",
   "name": "python",
   "nbconvert_exporter": "python",
   "pygments_lexer": "ipython3",
   "version": "3.13.0"
  }
 },
 "nbformat": 4,
 "nbformat_minor": 2
}
