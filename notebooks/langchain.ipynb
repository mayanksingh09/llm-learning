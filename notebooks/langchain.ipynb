{
 "cells": [
  {
   "cell_type": "code",
   "execution_count": 6,
   "metadata": {},
   "outputs": [],
   "source": [
    "import getpass\n",
    "import os"
   ]
  },
  {
   "cell_type": "code",
   "execution_count": 34,
   "metadata": {},
   "outputs": [],
   "source": [
    "if not os.environ.get(\"OPENAI_API_KEY\"):\n",
    "    os.environ[\"OPENAI_API_KEY\"] = getpass.getpass(\"Enter your OpenAI API key: \")"
   ]
  },
  {
   "cell_type": "code",
   "execution_count": 13,
   "metadata": {},
   "outputs": [],
   "source": [
    "\n",
    "from langchain.llms import OpenAI\n",
    "from langchain_openai import ChatOpenAI\n",
    "\n",
    "model = ChatOpenAI(model=\"gpt-4o-mini\")"
   ]
  },
  {
   "cell_type": "markdown",
   "metadata": {},
   "source": [
    "## Chaining Runnable Tasks"
   ]
  },
  {
   "cell_type": "markdown",
   "metadata": {},
   "source": [
    "Howto: https://python.langchain.com/docs/how_to/sequence/"
   ]
  },
  {
   "cell_type": "code",
   "execution_count": 14,
   "metadata": {},
   "outputs": [],
   "source": [
    "from langchain_core.output_parsers import StrOutputParser # parses the output of the model into a string (removing all other additional information)\n",
    "from langchain_core.prompts import ChatPromptTemplate # a template for the prompt that will be sent to the model\n",
    "\n",
    "prompt = ChatPromptTemplate.from_template(\"tell me a joke about {topic}\")"
   ]
  },
  {
   "cell_type": "code",
   "execution_count": 20,
   "metadata": {},
   "outputs": [
    {
     "name": "stdout",
     "output_type": "stream",
     "text": [
      "================================\u001b[1m Human Message \u001b[0m=================================\n",
      "\n",
      "tell me a joke about \u001b[33;1m\u001b[1;3m{topic}\u001b[0m\n"
     ]
    }
   ],
   "source": [
    "prompt.pretty_print()"
   ]
  },
  {
   "cell_type": "markdown",
   "metadata": {},
   "source": [
    "1. Chain the task to take user input invoke model and parse output to get the string only"
   ]
  },
  {
   "cell_type": "code",
   "execution_count": 29,
   "metadata": {},
   "outputs": [
    {
     "name": "stdout",
     "output_type": "stream",
     "text": [
      "Why don't scientists trust dark matter?\n",
      "\n",
      "Because it's always there, but they can never see it!\n"
     ]
    }
   ],
   "source": [
    "chain = prompt | model | StrOutputParser()\n",
    "print(chain.invoke({\"topic\": \"dark matter\"}))"
   ]
  },
  {
   "cell_type": "markdown",
   "metadata": {},
   "source": [
    "2. Do above + use another model to evaluate whether joke was funny or not"
   ]
  },
  {
   "cell_type": "code",
   "execution_count": 30,
   "metadata": {},
   "outputs": [],
   "source": [
    "analysis_prompt = ChatPromptTemplate.from_template(\"analyze if joke is funny: {joke}\")"
   ]
  },
  {
   "cell_type": "code",
   "execution_count": 31,
   "metadata": {},
   "outputs": [
    {
     "name": "stdout",
     "output_type": "stream",
     "text": [
      "This joke plays on a couple of clever concepts, which can make it funny to certain audiences, particularly those with an interest in science:\n",
      "\n",
      "1. **Play on Words**: The punchline hinges on the double meaning of \"chemistry.\" In a scientific context, chemistry refers to the interaction between different types of matter, while in a social context, it refers to a connection or attraction between people. The joke cleverly combines these meanings.\n",
      "\n",
      "2. **Scientific Reference**: The mention of \"dark matter\" and \"regular matter\" appeals to people who are familiar with astrophysics or cosmology. Dark matter is a significant concept in modern physics, and using it in a humorous context may engage those who have an interest in the subject.\n",
      "\n",
      "3. **Relatability**: The theme of breakups and the search for chemistry in relationships is a relatable experience for many people. The joke anthropomorphizes dark matter, giving it a personality that struggles with relationship issues, which adds a layer of humor.\n",
      "\n",
      "Overall, the effectiveness of this joke largely depends on the audience's familiarity with the scientific concepts and their appreciation for puns. For those who enjoy science humor, it is likely to be perceived as funny. However, it may not resonate as well with those who do not have a background in science or who prefer more straightforward humor.\n"
     ]
    }
   ],
   "source": [
    "analysis_chain = {\"joke\": chain} | analysis_prompt | model | StrOutputParser()\n",
    "\n",
    "print(analysis_chain.invoke({\"topic\": 'dark matter'}))"
   ]
  },
  {
   "cell_type": "markdown",
   "metadata": {},
   "source": [
    "3. Using a custom function to the chain"
   ]
  },
  {
   "cell_type": "markdown",
   "metadata": {},
   "source": [
    "Doing the same as above with lambda function - these functions may interfere with streaming"
   ]
  },
  {
   "cell_type": "code",
   "execution_count": 32,
   "metadata": {},
   "outputs": [],
   "source": [
    "analysis_chain_lambda = chain | (lambda input : {\"joke\": input}) | analysis_prompt | model | StrOutputParser()"
   ]
  },
  {
   "cell_type": "code",
   "execution_count": 33,
   "metadata": {},
   "outputs": [
    {
     "data": {
      "text/plain": [
       "'This joke plays on the scientific concept of dark matter and regular (baryonic) matter in the universe. The humor comes from a pun that combines the literal aspect of \"seeing\" (since dark matter does not interact with light and is invisible) with the metaphorical concept of envisioning a future in a relationship. \\n\\n**Analysis of the Joke:**\\n\\n1. **Cleverness**: The joke is clever because it requires some understanding of astrophysics, particularly the nature of dark matter. It uses this scientific knowledge to create a light-hearted punchline.\\n\\n2. **Wordplay**: The play on words with \"see a future together\" is effective. It combines a common relationship phrase with the scientific fact about dark matter\\'s invisibility.\\n\\n3. **Niche Audience**: The humor may resonate more with an audience that has an interest in science or physics. Those unfamiliar with the concepts may find the joke less funny or confusing.\\n\\n4. **Structure**: The setup and punchline structure of the joke is solid. It provides a clear setup (\"Why did the dark matter break up with the regular matter?\") followed by a punchline that delivers the humor.\\n\\nOverall, the joke is likely to be funny to those who appreciate scientific humor and puns. However, for a broader audience, it might not land as effectively due to its niche subject matter.'"
      ]
     },
     "execution_count": 33,
     "metadata": {},
     "output_type": "execute_result"
    }
   ],
   "source": [
    "analysis_chain_lambda.invoke({'topic': 'dark matter'})"
   ]
  },
  {
   "cell_type": "code",
   "execution_count": null,
   "metadata": {},
   "outputs": [],
   "source": []
  }
 ],
 "metadata": {
  "kernelspec": {
   "display_name": "llm_learning_py311",
   "language": "python",
   "name": "python3"
  },
  "language_info": {
   "codemirror_mode": {
    "name": "ipython",
    "version": 3
   },
   "file_extension": ".py",
   "mimetype": "text/x-python",
   "name": "python",
   "nbconvert_exporter": "python",
   "pygments_lexer": "ipython3",
   "version": "3.11.10"
  }
 },
 "nbformat": 4,
 "nbformat_minor": 2
}
