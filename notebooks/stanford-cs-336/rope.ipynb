{
 "cells": [
  {
   "cell_type": "code",
   "execution_count": 1,
   "metadata": {},
   "outputs": [],
   "source": [
    "import sys\n",
    "\n",
    "sys.path.append(\"/Users/mayanksingh/CursorProjects/llm-learning/scripts/stanford-cs-336\")"
   ]
  },
  {
   "cell_type": "code",
   "execution_count": 2,
   "metadata": {},
   "outputs": [
    {
     "name": "stdout",
     "output_type": "stream",
     "text": [
      "=== Understanding Interleaved vs Non-Interleaved RoPE ===\n",
      "\n",
      "1. NON-INTERLEAVED (default, used in most models like LLaMA)\n",
      "2. INTERLEAVED (used in GPT-J style models)\n",
      "Dimension: 8, Sequence length: 3\n",
      "Base frequencies (inv_freq): tensor([1.0000, 0.1000, 0.0100, 0.0010])\n",
      "\n",
      "--- Position 0 (should be all 1s for cos, all 0s for sin) ---\n",
      "Normal cos[0]:       tensor([1., 1., 1., 1., 1., 1., 1., 1.])\n",
      "Interleaved cos[0]:  tensor([1., 1., 1., 1., 1., 1., 1., 1.])\n",
      "\n",
      "--- Position 1 (shows the difference) ---\n",
      "Normal cos[1]:       tensor([0.5403, 0.5403, 0.9950, 0.9950, 0.9999, 0.9999, 1.0000, 1.0000])\n",
      "Normal sin[1]:       tensor([0.8415, 0.8415, 0.0998, 0.0998, 0.0100, 0.0100, 0.0010, 0.0010])\n",
      "Interleaved cos[1]:  tensor([0.5403, 0.9950, 0.9999, 1.0000, 0.5403, 0.9950, 0.9999, 1.0000])\n",
      "Interleaved sin[1]:  tensor([0.8415, 0.0998, 0.0100, 0.0010, 0.8415, 0.0998, 0.0100, 0.0010])\n",
      "\n",
      "--- Explanation ---\n",
      "Non-interleaved: frequencies are repeated in pairs\n",
      "  Dimensions 0,1 use freq[0]\n",
      "  Dimensions 2,3 use freq[1]\n",
      "  Dimensions 4,5 use freq[2]\n",
      "  Dimensions 6,7 use freq[3]\n",
      "\n",
      "Interleaved: frequencies are spread across dimensions\n",
      "  Dimensions 0,4 use freq[0]\n",
      "  Dimensions 1,5 use freq[1]\n",
      "  Dimensions 2,6 use freq[2]\n",
      "  Dimensions 3,7 use freq[3]\n",
      "\n",
      "Base freqs matrix (pos × freq_idx):\n",
      "tensor([[0.0000e+00, 0.0000e+00, 0.0000e+00, 0.0000e+00],\n",
      "        [1.0000e+00, 1.0000e-01, 1.0000e-02, 1.0000e-03],\n",
      "        [2.0000e+00, 2.0000e-01, 2.0000e-02, 2.0000e-03]])\n",
      "\n",
      "Non-interleaved embedding (repeat each freq twice):\n",
      "Shape: torch.Size([3, 8])\n",
      "Position 1: tensor([1.0000, 1.0000, 0.1000, 0.1000, 0.0100, 0.0100, 0.0010, 0.0010])\n",
      "\n",
      "Interleaved embedding (concat freqs with itself):\n",
      "Shape: torch.Size([3, 8])\n",
      "Position 1: tensor([1.0000, 0.1000, 0.0100, 0.0010, 1.0000, 0.1000, 0.0100, 0.0010])\n",
      "\n",
      "=== Testing both on actual tensors ===\n",
      "Original q[0,:,0,:]:\n",
      "tensor([[ 0.8073, -0.8178,  0.5656, -2.3257,  0.5657, -0.2196, -1.1674, -0.9529],\n",
      "        [-0.0205, -2.7036,  0.8988, -0.5890,  0.0925, -1.2492,  2.3564, -1.0095],\n",
      "        [ 1.3317,  0.1586,  0.8277,  1.4855, -0.7405, -0.0416, -0.9120,  0.5650],\n",
      "        [ 0.9980, -1.2207,  1.1963, -0.3468, -0.0572, -0.7279,  1.1265, -1.2583]])\n",
      "\n",
      "Normal RoPE result q[0,:,0,:]:\n",
      "tensor([[ 0.8073, -0.8178,  0.5656, -2.3257,  0.5657, -0.2196, -1.1674, -0.9529],\n",
      "        [ 2.2639, -1.4780,  0.9531, -0.4963,  0.1050, -1.2482,  2.3574, -1.0072],\n",
      "        [-0.6984,  1.1449,  0.5161,  1.6204, -0.7396, -0.0564, -0.9131,  0.5632],\n",
      "        [-0.8157,  1.3493,  1.2454,  0.0222, -0.0353, -0.7293,  1.1302, -1.2549]])\n",
      "\n",
      "Interleaved RoPE result q[0,:,0,:]:\n",
      "tensor([[ 0.8073, -0.8178,  0.5656, -2.3257,  0.5657, -0.2196, -1.1674, -0.9529],\n",
      "        [ 2.2639, -2.6921,  0.9047, -0.5881,  1.1011, -1.2337,  2.3664, -1.0072],\n",
      "        [-0.6984,  0.4200,  0.7978,  1.4872,  0.3460, -0.1879, -0.9231,  0.5632],\n",
      "        [-0.8157, -0.8713,  1.2062, -0.3433,  0.1593, -0.7123,  1.1637, -1.2549]])\n",
      "\n",
      "Normal diff max: 2.570066\n",
      "Interleaved diff max: 2.284405\n",
      "\n",
      "=== Summary ===\n",
      "• Non-interleaved (default): Used in LLaMA, GPT-NeoX, most modern models\n",
      "• Interleaved: Used in GPT-J and some other variants\n",
      "• Both achieve the same goal but organize frequencies differently\n",
      "• Choose based on the model architecture you're implementing\n"
     ]
    }
   ],
   "source": [
    "!python /Users/mayanksingh/CursorProjects/llm-learning/scripts/stanford-cs-336/rope.py"
   ]
  }
 ],
 "metadata": {
  "kernelspec": {
   "display_name": "llm-learning",
   "language": "python",
   "name": "llm-learning"
  },
  "language_info": {
   "codemirror_mode": {
    "name": "ipython",
    "version": 3
   },
   "file_extension": ".py",
   "mimetype": "text/x-python",
   "name": "python",
   "nbconvert_exporter": "python",
   "pygments_lexer": "ipython3",
   "version": "3.12.0"
  }
 },
 "nbformat": 4,
 "nbformat_minor": 2
}
